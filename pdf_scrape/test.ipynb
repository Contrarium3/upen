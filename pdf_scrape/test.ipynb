{
 "cells": [
  {
   "cell_type": "code",
   "execution_count": 2,
   "id": "fc4a96c5",
   "metadata": {},
   "outputs": [],
   "source": [
    "import datetime"
   ]
  },
  {
   "cell_type": "code",
   "execution_count": 3,
   "id": "75f5f609",
   "metadata": {},
   "outputs": [],
   "source": [
    "\n",
    "start =  datetime.datetime.now()"
   ]
  },
  {
   "cell_type": "code",
   "execution_count": 11,
   "id": "87971787",
   "metadata": {},
   "outputs": [
    {
     "name": "stdout",
     "output_type": "stream",
     "text": [
      "progress:  64.401 %\n",
      "Elapsed time: 0:28:05.903258\n",
      "Estimated total time: 2083 days, 22:11:36.147884\n",
      "Estimated remaining time: 2083 days, 21:43:30.244626\n",
      "Unique entries: 193203\n",
      "Total entries: 193203\n"
     ]
    }
   ],
   "source": [
    "import json\n",
    "\n",
    "with open('global_progress.json') as f:\n",
    "    data = json.load(f)\n",
    "    \n",
    "now = datetime.datetime.now()\n",
    "print('progress: ' , len(data)/300000 * 100, '%')\n",
    "len(set(data)) , len(data) \n",
    "\n",
    "\n",
    "# Elapsed time so far\n",
    "elapsed_time = now - start\n",
    "\n",
    "# Estimate total expected time based on current rate\n",
    "if len(data) > 0:\n",
    "    total_expected_time = elapsed_time / ((len(data)-193202) / (300000-193202))\n",
    "    time_remaining = total_expected_time - elapsed_time\n",
    "\n",
    "    print(f'Elapsed time: {elapsed_time}')\n",
    "    print(f'Estimated total time: {total_expected_time}')\n",
    "    print(f'Estimated remaining time: {time_remaining}')\n",
    "else:\n",
    "    print(\"No data processed yet.\")\n",
    "\n",
    "# Check for unique values and total values\n",
    "print(\"Unique entries:\", len(set(data)))\n",
    "print(\"Total entries:\", len(data))\n",
    "\n",
    "############## 700-800 gb in total"
   ]
  },
  {
   "cell_type": "code",
   "execution_count": null,
   "id": "d691b542",
   "metadata": {},
   "outputs": [],
   "source": []
  }
 ],
 "metadata": {
  "kernelspec": {
   "display_name": "upen-Ci3XcPU6-py3.11",
   "language": "python",
   "name": "python3"
  },
  "language_info": {
   "codemirror_mode": {
    "name": "ipython",
    "version": 3
   },
   "file_extension": ".py",
   "mimetype": "text/x-python",
   "name": "python",
   "nbconvert_exporter": "python",
   "pygments_lexer": "ipython3",
   "version": "3.11.11"
  }
 },
 "nbformat": 4,
 "nbformat_minor": 5
}
